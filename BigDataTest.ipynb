{
 "cells": [
  {
   "cell_type": "markdown",
   "metadata": {},
   "source": [
    "## Creating Spark Session"
   ]
  },
  {
   "cell_type": "code",
   "execution_count": null,
   "metadata": {},
   "outputs": [],
   "source": [
    "from pyspark.sql import SparkSession\n",
    "from pyspark.sql.types import *\n",
    "from pyspark.sql import functions as F\n",
    "\n",
    "spark = SparkSession \\\n",
    "    .builder \\\n",
    "    .appName(\"Content Watchtime\") \\\n",
    "    .getOrCreate()\n",
    "\n",
    "spark.sparkContext.setLogLevel('WARN')"
   ]
  },
  {
   "cell_type": "markdown",
   "metadata": {},
   "source": [
    "## Reading CSV file "
   ]
  },
  {
   "cell_type": "code",
   "execution_count": 8,
   "metadata": {},
   "outputs": [
    {
     "name": "stdout",
     "output_type": "stream",
     "text": [
      "+---+-----+--------------------+------+------+---+------+-----+\n",
      "|_c0|  _c1|                 _c2|   _c3|   _c4|_c5|   _c6|  _c7|\n",
      "+---+-----+--------------------+------+------+---+------+-----+\n",
      "| de|31334|[07/Aug/2015:20:3...|+0000]| 76410|302|   435|0.326|\n",
      "| pl|50231|[07/Aug/2015:20:3...|+0000]|126746|200|  7400|  0.0|\n",
      "| gr| 3329|[07/Aug/2015:20:3...|+0000]|126474|206| 17711|  0.0|\n",
      "| tr| 9121|[07/Aug/2015:20:3...|+0000]| 76406|200| 19589|  0.0|\n",
      "| se| 3301|[08/Aug/2015:16:2...|+0000]| 76406|200| 17960|  0.0|\n",
      "| kz| 9198|[08/Aug/2015:16:3...|+0000]| 76406|200|  2403|  0.0|\n",
      "| ch| 6830|[08/Aug/2015:16:3...|+0000]| 76406|200| 16099|  0.0|\n",
      "| rs|21246|[09/Aug/2015:17:1...|+0000]| 76406|200| 64127|  0.0|\n",
      "| rs|21246|[09/Aug/2015:17:1...|+0000]| 76406|200| 64704|  0.0|\n",
      "| ro| 9050|[09/Aug/2015:20:3...|+0000]|126518|206|302932|0.504|\n",
      "| at| 8447|[09/Aug/2015:20:3...|+0000]| 55510|200| 33494|0.006|\n",
      "| de| 3320|[09/Aug/2015:20:3...|+0000]| 55510|200|603522|2.892|\n",
      "| de| 3320|[10/Aug/2015:09:1...|+0000]| 55510|200| 33526|0.007|\n",
      "| de| 3320|[10/Aug/2015:09:1...|+0000]| 55510|200|796672| 2.17|\n",
      "| at| 8447|[10/Aug/2015:09:1...|+0000]| 55510|200| 33528|0.029|\n",
      "| at| 8447|[10/Aug/2015:10:2...|+0000]| 55510|200| 33535|  0.0|\n",
      "| at| 1901|[10/Aug/2015:10:2...|+0000]|126474|206|707542| 0.47|\n",
      "| de| 3320|[10/Aug/2015:10:3...|+0000]| 55510|200|460289|0.633|\n",
      "| at|12635|[10/Aug/2015:10:3...|+0000]|126700|206|120283|  0.0|\n",
      "| cz|15685|[11/Aug/2015:12:2...|+0000]|126518|206|850334|0.756|\n",
      "+---+-----+--------------------+------+------+---+------+-----+\n",
      "\n"
     ]
    }
   ],
   "source": [
    "data = spark.read.format('com.databricks.spark.csv') \\\n",
    "    .options(header=False, inferschema='true', delimiter=\"\\t\") \\\n",
    "    .load('sparkBigData.csv')\n",
    "\n",
    "data.show()"
   ]
  },
  {
   "cell_type": "code",
   "execution_count": 12,
   "metadata": {},
   "outputs": [],
   "source": [
    "## UDF to convert the string timestamp to pyspark timestamp format"
   ]
  },
  {
   "cell_type": "code",
   "execution_count": 9,
   "metadata": {},
   "outputs": [],
   "source": [
    "# UDF to remove [ ] from the string.\n",
    "def timeStamp(timeinList):\n",
    "    time = timeinList.replace(\"[\",'').replace(']','')\n",
    "    return time\n",
    "\n",
    "timer = F.udf(lambda z:timeStamp(z),StringType())"
   ]
  },
  {
   "cell_type": "code",
   "execution_count": 10,
   "metadata": {},
   "outputs": [
    {
     "name": "stdout",
     "output_type": "stream",
     "text": [
      "+-------+-----+-------------------+---------+---------+------+---------+------------------+----+\n",
      "|Country|ASN  |timestamp          |Metric A |Co Server|Bytes |Send/Time|Throughput        |hour|\n",
      "+-------+-----+-------------------+---------+---------+------+---------+------------------+----+\n",
      "|de     |31334|2015-08-08 02:00:01|76410    |302      |435   |0.326    |1334.355828220859 |2   |\n",
      "|pl     |50231|2015-08-08 02:00:01|126746   |200      |7400  |0.0      |0.0               |2   |\n",
      "|gr     |3329 |2015-08-08 02:00:01|126474   |206      |17711 |0.0      |0.0               |2   |\n",
      "|tr     |9121 |2015-08-08 02:00:02|76406    |200      |19589 |0.0      |0.0               |2   |\n",
      "|se     |3301 |2015-08-08 21:59:00|76406    |200      |17960 |0.0      |0.0               |21  |\n",
      "|kz     |9198 |2015-08-08 22:00:02|76406    |200      |2403  |0.0      |0.0               |22  |\n",
      "|ch     |6830 |2015-08-08 22:02:22|76406    |200      |16099 |0.0      |0.0               |22  |\n",
      "|rs     |21246|2015-08-09 22:43:03|76406    |200      |64127 |0.0      |0.0               |22  |\n",
      "|rs     |21246|2015-08-09 22:43:55|76406    |200      |64704 |0.0      |0.0               |22  |\n",
      "|ro     |9050 |2015-08-10 02:00:02|126518   |206      |302932|0.504    |601055.5555555555 |2   |\n",
      "|at     |8447 |2015-08-10 02:05:13|55510    |200      |33494 |0.006    |5582333.333333333 |2   |\n",
      "|de     |3320 |2015-08-10 02:05:25|55510    |200      |603522|2.892    |208686.72199170126|2   |\n",
      "|de     |3320 |2015-08-10 14:40:10|55510    |200      |33526 |0.007    |4789428.571428571 |14  |\n",
      "|de     |3320 |2015-08-10 14:49:12|55510    |200      |796672|2.17     |367129.9539170507 |14  |\n",
      "|at     |8447 |2015-08-10 14:49:20|55510    |200      |33528 |0.029    |1156137.9310344828|14  |\n",
      "|at     |8447 |2015-08-10 15:58:29|55510    |200      |33535 |0.0      |0.0               |15  |\n",
      "|at     |1901 |2015-08-10 15:59:12|126474   |206      |707542|0.47     |1505408.510638298 |15  |\n",
      "|de     |3320 |2015-08-10 16:00:29|55510    |200      |460289|0.633    |727154.8183254345 |16  |\n",
      "|at     |12635|2015-08-10 16:04:18|126700   |206      |120283|0.0      |0.0               |16  |\n",
      "|cz     |15685|2015-08-11 17:50:19|126518   |206      |850334|0.756    |1124780.4232804233|17  |\n",
      "+-------+-----+-------------------+---------+---------+------+---------+------------------+----+\n",
      "\n"
     ]
    }
   ],
   "source": [
    "# Format of Input date.\n",
    "format = \"dd/MMM/yyyy:HH:mm:ssZ\"\n",
    "\n",
    "# Putting headers to column\n",
    "# merging, processing date column\n",
    "# Calculating throughput per second by dividing Bytes with send/time column.\n",
    "# Getting Hour from the timestamp column which can be used for further grouping.\n",
    "\n",
    "data = data.select(F.col('_c0').alias('Country'), F.col('_c1').alias('ASN'), \\\n",
    "            F.unix_timestamp(timer(F.concat_ws(\"\",F.col('_c2'),F.col('_c3'))),format=format).cast('timestamp').alias('timestamp'),\\\n",
    "            F.col('_c4').alias('Metric A '), F.col('_c5').alias('Co Server'), \\\n",
    "            F.col('_c6').alias('Bytes'),F.col('_c7').alias('Send/Time'))\\\n",
    "            .withColumn('Throughput', F.col('Bytes')/F.col('Send/Time')) \\\n",
    "            .withColumn('hour', F.hour('timestamp'))\n",
    "\n",
    "data = data.fillna({'Throughput':0.0})\n",
    "data.show(truncate=False)\n"
   ]
  },
  {
   "cell_type": "code",
   "execution_count": 11,
   "metadata": {},
   "outputs": [
    {
     "name": "stdout",
     "output_type": "stream",
     "text": [
      "+---------+------------------+\n",
      "|Co Server|   avg(Throughput)|\n",
      "+---------+------------------+\n",
      "|      206|1077081.4964914257|\n",
      "|      200|2138478.5550050954|\n",
      "|      302| 1334.355828220859|\n",
      "+---------+------------------+\n",
      "\n",
      "+-----+------------------+\n",
      "|  ASN|   avg(Throughput)|\n",
      "+-----+------------------+\n",
      "| 3320|1523100.0164156894|\n",
      "| 1901| 1505408.510638298|\n",
      "| 8447| 3369235.632183908|\n",
      "|15685|1124780.4232804233|\n",
      "|31334| 1334.355828220859|\n",
      "| 9050| 601055.5555555555|\n",
      "+-----+------------------+\n",
      "\n",
      "+-----+---------+------------------+\n",
      "|  ASN|Co Server|   avg(Throughput)|\n",
      "+-----+---------+------------------+\n",
      "|31334|      302| 1334.355828220859|\n",
      "| 3320|      200|1523100.0164156894|\n",
      "| 1901|      206| 1505408.510638298|\n",
      "|15685|      206|1124780.4232804233|\n",
      "| 9050|      206| 601055.5555555555|\n",
      "| 8447|      200| 3369235.632183908|\n",
      "+-----+---------+------------------+\n",
      "\n",
      "+-------+-----+------------------+\n",
      "|Country|  ASN|   avg(Throughput)|\n",
      "+-------+-----+------------------+\n",
      "|     at| 8447| 3369235.632183908|\n",
      "|     at| 1901| 1505408.510638298|\n",
      "|     ro| 9050| 601055.5555555555|\n",
      "|     cz|15685|1124780.4232804233|\n",
      "|     de|31334| 1334.355828220859|\n",
      "|     de| 3320|1523100.0164156894|\n",
      "+-------+-----+------------------+\n",
      "\n",
      "+-------+---------+------------------+\n",
      "|Country|Co Server|   avg(Throughput)|\n",
      "+-------+---------+------------------+\n",
      "|     at|      200| 3369235.632183908|\n",
      "|     cz|      206|1124780.4232804233|\n",
      "|     de|      200|1523100.0164156894|\n",
      "|     de|      302| 1334.355828220859|\n",
      "|     ro|      206| 601055.5555555555|\n",
      "|     at|      206| 1505408.510638298|\n",
      "+-------+---------+------------------+\n",
      "\n",
      "+----+---------+------------------+\n",
      "|hour|Co Server|   avg(Throughput)|\n",
      "+----+---------+------------------+\n",
      "|  16|      200| 727154.8183254345|\n",
      "|   2|      302| 1334.355828220859|\n",
      "|   2|      206| 601055.5555555555|\n",
      "|  15|      206| 1505408.510638298|\n",
      "|   2|      200| 2895510.027662517|\n",
      "|  14|      200|2104232.1521267015|\n",
      "|  17|      206|1124780.4232804233|\n",
      "+----+---------+------------------+\n",
      "\n",
      "+----+-----+------------------+\n",
      "|hour|  ASN|   avg(Throughput)|\n",
      "+----+-----+------------------+\n",
      "|   2| 9050| 601055.5555555555|\n",
      "|   2|31334| 1334.355828220859|\n",
      "|  15| 1901| 1505408.510638298|\n",
      "|  16| 3320| 727154.8183254345|\n",
      "|  17|15685|1124780.4232804233|\n",
      "|   2| 3320|208686.72199170126|\n",
      "|  14| 3320| 2578279.262672811|\n",
      "|  14| 8447|1156137.9310344828|\n",
      "|   2| 8447| 5582333.333333333|\n",
      "+----+-----+------------------+\n",
      "\n"
     ]
    }
   ],
   "source": [
    "# Grouping by Keys and removing columns where send time is 0\n",
    "data.where(F.col('Throughput')!=0.0).groupBy('Co Server').agg(F.avg('Throughput')).show()\n",
    "data.where(F.col('Throughput')!=0.0).groupBy('ASN').agg(F.avg('Throughput')).show()\n",
    "data.where(F.col('Throughput')!=0.0).groupBy('ASN','Co Server').agg(F.avg('Throughput')).show()\n",
    "data.where(F.col('Throughput')!=0.0).groupBy('Country','ASN').agg(F.avg('Throughput')).show()\n",
    "data.where(F.col('Throughput')!=0.0).groupBy('Country','Co Server').agg(F.avg('Throughput')).show()\n",
    "data.where(F.col('Throughput')!=0.0).groupBy('hour','Co Server').agg(F.avg('Throughput')).show()\n",
    "data.where(F.col('Throughput')!=0.0).groupBy('hour','ASN').agg(F.avg('Throughput')).show()"
   ]
  },
  {
   "cell_type": "code",
   "execution_count": null,
   "metadata": {},
   "outputs": [],
   "source": []
  },
  {
   "cell_type": "code",
   "execution_count": null,
   "metadata": {},
   "outputs": [],
   "source": []
  },
  {
   "cell_type": "code",
   "execution_count": null,
   "metadata": {},
   "outputs": [],
   "source": []
  },
  {
   "cell_type": "code",
   "execution_count": null,
   "metadata": {},
   "outputs": [],
   "source": []
  },
  {
   "cell_type": "code",
   "execution_count": null,
   "metadata": {},
   "outputs": [],
   "source": []
  },
  {
   "cell_type": "code",
   "execution_count": null,
   "metadata": {},
   "outputs": [],
   "source": []
  },
  {
   "cell_type": "code",
   "execution_count": null,
   "metadata": {},
   "outputs": [],
   "source": []
  },
  {
   "cell_type": "code",
   "execution_count": null,
   "metadata": {},
   "outputs": [],
   "source": []
  },
  {
   "cell_type": "code",
   "execution_count": null,
   "metadata": {},
   "outputs": [],
   "source": []
  },
  {
   "cell_type": "code",
   "execution_count": null,
   "metadata": {},
   "outputs": [],
   "source": []
  },
  {
   "cell_type": "code",
   "execution_count": null,
   "metadata": {},
   "outputs": [],
   "source": []
  },
  {
   "cell_type": "code",
   "execution_count": null,
   "metadata": {},
   "outputs": [],
   "source": []
  },
  {
   "cell_type": "code",
   "execution_count": null,
   "metadata": {},
   "outputs": [],
   "source": []
  },
  {
   "cell_type": "code",
   "execution_count": null,
   "metadata": {},
   "outputs": [],
   "source": []
  },
  {
   "cell_type": "code",
   "execution_count": null,
   "metadata": {},
   "outputs": [],
   "source": []
  }
 ],
 "metadata": {
  "kernelspec": {
   "display_name": "Python 3",
   "language": "python",
   "name": "python3"
  },
  "language_info": {
   "codemirror_mode": {
    "name": "ipython",
    "version": 3
   },
   "file_extension": ".py",
   "mimetype": "text/x-python",
   "name": "python",
   "nbconvert_exporter": "python",
   "pygments_lexer": "ipython3",
   "version": "3.6.6"
  }
 },
 "nbformat": 4,
 "nbformat_minor": 2
}
